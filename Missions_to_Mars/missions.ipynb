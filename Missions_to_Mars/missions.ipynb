{
 "cells": [
  {
   "cell_type": "code",
   "execution_count": 1,
   "id": "e7599b21-728d-4404-b3f0-6a70f3b5505c",
   "metadata": {},
   "outputs": [
    {
     "name": "stderr",
     "output_type": "stream",
     "text": [
      "\n",
      "\n",
      "====== WebDriver manager ======\n",
      "Current google-chrome version is 97.0.4692\n",
      "Get LATEST chromedriver version for 97.0.4692 google-chrome\n",
      "Driver [/Users/Pulast/.wdm/drivers/chromedriver/mac64/97.0.4692.71/chromedriver] found in cache\n"
     ]
    }
   ],
   "source": [
    "from splinter import Browser\n",
    "from bs4 import BeautifulSoup\n",
    "from webdriver_manager.chrome import ChromeDriverManager\n",
    "import requests\n",
    "import pandas as pd\n",
    "import time\n",
    "    # browser = init_browser()\n",
    "executable_path = {'executable_path': ChromeDriverManager().install()}\n",
    "browser = Browser('chrome', **executable_path, headless=False)"
   ]
  },
  {
   "cell_type": "code",
   "execution_count": 2,
   "id": "1f77ed1d-0a86-48ca-8bf9-41f8f9df08c0",
   "metadata": {},
   "outputs": [
    {
     "name": "stdout",
     "output_type": "stream",
     "text": [
      "NASA's MAVEN Maps Winds in the Martian Upper Atmosphere that Mirror the Terrain Below and Gives Clues to Martian Climate\n",
      "Researchers have created the first map of wind circulation in the upper atmosphere of a planet besides Earth, using data from NASA’s MAVEN spacecraft that were collected during the last two years.\n"
     ]
    }
   ],
   "source": [
    "#Scraping - NASA MARS News\n",
    "\n",
    "url = \"https://redplanetscience.com/\"\n",
    "browser.visit(url)\n",
    "    \n",
    "html = browser.html\n",
    "soup = BeautifulSoup(html, \"html.parser\")\n",
    "\n",
    "#find test of the title\n",
    "news_title = soup.find(\"div\", class_=\"content_title\").text\n",
    "print(news_title)\n",
    "    \n",
    "#find text of the paragraph\n",
    "news_p = soup.find(\"div\", class_=\"article_teaser_body\").text\n",
    "\n",
    "print(news_p)"
   ]
  },
  {
   "cell_type": "code",
   "execution_count": 3,
   "id": "55e6fa91-1d10-4967-a201-654978751bf2",
   "metadata": {},
   "outputs": [
    {
     "data": {
      "text/plain": [
       "'http://spaceimages-mars.comimage/featured/mars3.jpg'"
      ]
     },
     "execution_count": 3,
     "metadata": {},
     "output_type": "execute_result"
    }
   ],
   "source": [
    "#Scraping JPL Mars Space Images\n",
    "url = 'http://spaceimages-mars.com'\n",
    "browser.visit(url)\n",
    "html=browser.html\n",
    "soup = BeautifulSoup(html,'html.parser')\n",
    "\n",
    "#retrive all images\n",
    "\n",
    "mars_images = [i.get(\"src\") for i in soup.find_all(\"img\",class_=\"headerimage fade-in\")]\n",
    "mars_images[0]\n",
    "\n",
    "featured_image_url = url+mars_images[0]\n",
    "featured_image_url"
   ]
  },
  {
   "cell_type": "code",
   "execution_count": 4,
   "id": "aee9610a-640e-44f6-bdf1-c5b43148790f",
   "metadata": {},
   "outputs": [
    {
     "data": {
      "text/html": [
       "<div>\n",
       "<style scoped>\n",
       "    .dataframe tbody tr th:only-of-type {\n",
       "        vertical-align: middle;\n",
       "    }\n",
       "\n",
       "    .dataframe tbody tr th {\n",
       "        vertical-align: top;\n",
       "    }\n",
       "\n",
       "    .dataframe thead th {\n",
       "        text-align: right;\n",
       "    }\n",
       "</style>\n",
       "<table border=\"1\" class=\"dataframe\">\n",
       "  <thead>\n",
       "    <tr style=\"text-align: right;\">\n",
       "      <th></th>\n",
       "      <th>Mars</th>\n",
       "      <th>Earth</th>\n",
       "    </tr>\n",
       "    <tr>\n",
       "      <th>Mars-Earth Comparision</th>\n",
       "      <th></th>\n",
       "      <th></th>\n",
       "    </tr>\n",
       "  </thead>\n",
       "  <tbody>\n",
       "    <tr>\n",
       "      <th>Diameter:</th>\n",
       "      <td>6,779 km</td>\n",
       "      <td>12,742 km</td>\n",
       "    </tr>\n",
       "    <tr>\n",
       "      <th>Mass:</th>\n",
       "      <td>6.39 × 10^23 kg</td>\n",
       "      <td>5.97 × 10^24 kg</td>\n",
       "    </tr>\n",
       "    <tr>\n",
       "      <th>Moons:</th>\n",
       "      <td>2</td>\n",
       "      <td>1</td>\n",
       "    </tr>\n",
       "    <tr>\n",
       "      <th>Distance from Sun:</th>\n",
       "      <td>227,943,824 km</td>\n",
       "      <td>149,598,262 km</td>\n",
       "    </tr>\n",
       "    <tr>\n",
       "      <th>Length of Year:</th>\n",
       "      <td>687 Earth days</td>\n",
       "      <td>365.24 days</td>\n",
       "    </tr>\n",
       "    <tr>\n",
       "      <th>Temperature:</th>\n",
       "      <td>-87 to -5 °C</td>\n",
       "      <td>-88 to 58°C</td>\n",
       "    </tr>\n",
       "  </tbody>\n",
       "</table>\n",
       "</div>"
      ],
      "text/plain": [
       "                                   Mars            Earth\n",
       "Mars-Earth Comparision                                  \n",
       "Diameter:                      6,779 km        12,742 km\n",
       "Mass:                   6.39 × 10^23 kg  5.97 × 10^24 kg\n",
       "Moons:                                2                1\n",
       "Distance from Sun:       227,943,824 km   149,598,262 km\n",
       "Length of Year:          687 Earth days      365.24 days\n",
       "Temperature:               -87 to -5 °C      -88 to 58°C"
      ]
     },
     "execution_count": 4,
     "metadata": {},
     "output_type": "execute_result"
    }
   ],
   "source": [
    "#Image Scraping - Mars Facts\n",
    "\n",
    "url = 'http://galaxyfacts-mars.com'\n",
    "\n",
    "tables = pd.read_html(url)\n",
    "tables\n",
    "\n",
    "df = tables[0]\n",
    "df.columns = ['Mars-Earth Comparision','Mars','Earth']\n",
    "\n",
    "#drop first row\n",
    "df = df.iloc[1:]\n",
    "df.set_index('Mars-Earth Comparision',inplace=True)\n",
    "df"
   ]
  },
  {
   "cell_type": "code",
   "execution_count": 5,
   "id": "a3aa0038-5b46-4e10-8403-df5eae92382c",
   "metadata": {},
   "outputs": [
    {
     "name": "stdout",
     "output_type": "stream",
     "text": [
      "http://marshemispheres.com/cerberus.html\n",
      "http://marshemispheres.com/schiaparelli.html\n",
      "http://marshemispheres.com/syrtis.html\n",
      "http://marshemispheres.com/valles.html\n"
     ]
    },
    {
     "data": {
      "text/plain": [
       "[{'title': 'Cerberus Hemisphere Enhanced',\n",
       "  'img_url': 'https://marshemispheres.com/images/f5e372a36edfa389625da6d0cc25d905_cerberus_enhanced.tif_full.jpg'},\n",
       " {'title': 'Schiaparelli Hemisphere Enhanced',\n",
       "  'img_url': 'https://marshemispheres.com/images/3778f7b43bbbc89d6e3cfabb3613ba93_schiaparelli_enhanced.tif_full.jpg'},\n",
       " {'title': 'Syrtis Major Hemisphere Enhanced',\n",
       "  'img_url': 'https://marshemispheres.com/images/555e6403a6ddd7ba16ddb0e471cadcf7_syrtis_major_enhanced.tif_full.jpg'},\n",
       " {'title': 'Valles Marineris Hemisphere Enhanced',\n",
       "  'img_url': 'https://marshemispheres.com/images/b3c7c6c9138f57b4756be9b9c43e3a48_valles_marineris_enhanced.tif_full.jpg'}]"
      ]
     },
     "execution_count": 5,
     "metadata": {},
     "output_type": "execute_result"
    }
   ],
   "source": [
    "#Image Scraping : Mars Hemispheres\n",
    "\n",
    "url = 'https://marshemispheres.com/'\n",
    "browser.visit(url)\n",
    "#HTML object\n",
    "html = browser.html\n",
    "\n",
    "    #Parse HTML with BeautifulSoup\n",
    "soup = BeautifulSoup(html,'html.parser')\n",
    "\n",
    "    #retrive all elements\n",
    "mars = soup.find_all(\"div\", class_=\"item\")\n",
    "   \n",
    "\n",
    "hemisphere_url=[]\n",
    "#Iterate through each link\n",
    "for mar in mars:\n",
    "        link = mar.find('a')\n",
    "        href = link['href']\n",
    "        hemisphere_url.append('http://marshemispheres.com/'+href)\n",
    "print(*hemisphere_url,sep=\"\\n\")\n",
    "\n",
    "\n",
    "    #create list to store data\n",
    "hemisphere_image_urls=[]\n",
    "\n",
    "#Loop through each URL\n",
    "for url in hemisphere_url:\n",
    "     #Navigate to the page\n",
    "        browser.visit(url)\n",
    "        time.sleep(4)\n",
    "        \n",
    "        hemisphere_html = browser.html\n",
    "        #Parse HTML withBeautifulSoup\n",
    "        soup = BeautifulSoup(hemisphere_html,'html.parser')\n",
    "        \n",
    "        img_url = soup.find('img',class_=\"wide-image\")[\"src\"]\n",
    "        title = soup.find('h2',class_=\"title\").text\n",
    "        \n",
    "        hemisphere_image_urls.append({\"title\":title,\"img_url\":f\"https://marshemispheres.com/{img_url}\"})\n",
    "hemisphere_image_urls                                      "
   ]
  },
  {
   "cell_type": "code",
   "execution_count": null,
   "id": "c6e2b4d6-a76f-40fe-9b56-2cdf25062920",
   "metadata": {},
   "outputs": [],
   "source": []
  }
 ],
 "metadata": {
  "kernelspec": {
   "display_name": "Python 3",
   "language": "python",
   "name": "python3"
  },
  "language_info": {
   "codemirror_mode": {
    "name": "ipython",
    "version": 3
   },
   "file_extension": ".py",
   "mimetype": "text/x-python",
   "name": "python",
   "nbconvert_exporter": "python",
   "pygments_lexer": "ipython3",
   "version": "3.8.8"
  },
  "widgets": {
   "application/vnd.jupyter.widget-state+json": {
    "state": {},
    "version_major": 2,
    "version_minor": 0
   }
  }
 },
 "nbformat": 4,
 "nbformat_minor": 5
}
